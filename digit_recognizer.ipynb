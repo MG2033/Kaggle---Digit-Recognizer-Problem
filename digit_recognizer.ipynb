{
 "cells": [
  {
   "cell_type": "markdown",
   "metadata": {},
   "source": [
    "# Imports"
   ]
  },
  {
   "cell_type": "code",
   "execution_count": 1,
   "metadata": {
    "collapsed": false
   },
   "outputs": [
    {
     "name": "stderr",
     "output_type": "stream",
     "text": [
      "Using gpu device 0: GeForce GTX 660M (CNMeM is disabled, cuDNN 5105)\n",
      "Using Theano backend.\n"
     ]
    }
   ],
   "source": [
    "%matplotlib inline\n",
    "%config IPCompleter.greedy = True\n",
    "%config IPCompleter.merge_completions = True\n",
    "%config IPCompleter.limit_to__all__ = False\n",
    "import matplotlib\n",
    "import numpy as np\n",
    "from numpy import genfromtxt\n",
    "\n",
    "import scipy.misc\n",
    "import matplotlib.pyplot as plt\n",
    "import sklearn.datasets\n",
    "import theano\n",
    "import theano.tensor as T\n",
    "import csv\n",
    "import pickle\n",
    "\n",
    "from keras.models import Sequential\n",
    "from keras.layers import Dense\n",
    "from keras.layers import Dropout\n",
    "from keras.layers import Flatten\n",
    "from keras.constraints import maxnorm\n",
    "from keras.optimizers import Adam\n",
    "from keras.layers.convolutional import Convolution2D\n",
    "from keras.layers.convolutional import MaxPooling2D\n",
    "from keras.layers.normalization import BatchNormalization\n",
    "from keras.preprocessing.image import ImageDataGenerator\n",
    "from keras.callbacks import ModelCheckpoint\n",
    "from keras.layers.core import Activation\n",
    "from keras.regularizers import l2\n",
    "from keras.utils import np_utils\n",
    "from keras import backend as K\n",
    "K.set_image_dim_ordering('th')\n",
    "\n",
    "import cv2\n",
    "import time\n",
    "import matplotlib.image as mpimg\n",
    "from scipy.misc import *"
   ]
  },
  {
   "cell_type": "code",
   "execution_count": 2,
   "metadata": {
    "collapsed": true
   },
   "outputs": [],
   "source": [
    "CHANNELS_NUM = 1\n",
    "IMAGE_WIDTH = 28\n",
    "IMAGE_HEIGHT = 28\n",
    "CLASSES_NUM = 10\n",
    "EPOCHS_NUM = 20\n",
    "BATCH_SIZE = 64\n",
    "LEARNING_RATE = 1e-3\n",
    "REG = 0.0001\n",
    "DATASET_SIZE = 42000\n",
    "TEST_SIZE = 28000\n",
    "DATA_LOCATION = \"MNIST/train.csv\"\n",
    "TEST_LOCATION = \"MNIST/test.csv\""
   ]
  },
  {
   "cell_type": "markdown",
   "metadata": {},
   "source": [
    "# Data Loading"
   ]
  },
  {
   "cell_type": "code",
   "execution_count": 3,
   "metadata": {
    "collapsed": false
   },
   "outputs": [],
   "source": [
    "def Load_MNIST_Training():\n",
    "    X_data = np.zeros((DATASET_SIZE, IMAGE_HEIGHT*IMAGE_WIDTH))\n",
    "    Y_data = np.zeros((DATASET_SIZE,))\n",
    "    i = 0\n",
    "    with open(DATA_LOCATION, 'rb') as csvfile:\n",
    "        reader = csv.DictReader(csvfile)\n",
    "        for row in reader:\n",
    "            for j in xrange(IMAGE_WIDTH * IMAGE_HEIGHT):\n",
    "                X_data[i, j] = np.fromstring(row['pixel'+str(j)], dtype=int, sep=',')\n",
    "            Y_data[i] = row['label']\n",
    "            i = i + 1\n",
    "    return X_data, Y_data\n",
    "X_data,y_data = Load_MNIST_Training()"
   ]
  },
  {
   "cell_type": "code",
   "execution_count": 4,
   "metadata": {
    "collapsed": false
   },
   "outputs": [],
   "source": [
    "def Load_MNIST_Test():\n",
    "    X_test = np.zeros((TEST_SIZE, IMAGE_HEIGHT*IMAGE_WIDTH))\n",
    "    i = 0\n",
    "    with open(TEST_LOCATION, 'rb') as csvfile:\n",
    "        reader = csv.DictReader(csvfile)\n",
    "        for row in reader:\n",
    "            for j in xrange(IMAGE_WIDTH * IMAGE_HEIGHT):\n",
    "                X_test[i, j] = np.fromstring(row['pixel'+str(j)], dtype=int, sep=',')\n",
    "            i = i + 1\n",
    "    return X_test\n",
    "X_test = Load_MNIST_Test()"
   ]
  },
  {
   "cell_type": "markdown",
   "metadata": {},
   "source": [
    "# Split into validation and training sets"
   ]
  },
  {
   "cell_type": "code",
   "execution_count": 28,
   "metadata": {
    "collapsed": false
   },
   "outputs": [
    {
     "name": "stdout",
     "output_type": "stream",
     "text": [
      "(42000, 1, 28, 28) (42000, 10) (35700, 1, 28, 28) (35700, 10) (6300, 1, 28, 28) (6300, 10)\n"
     ]
    }
   ],
   "source": [
    "mask = np.random.choice(DATASET_SIZE-1,int(0.15*DATASET_SIZE),replace=False)\n",
    "X_val = X_data[mask]\n",
    "y_val = y_data[mask]\n",
    "X_train = np.delete(X_data,mask,axis=0)\n",
    "y_train = np.delete(y_data,mask,axis=0)\n",
    "\n",
    "X_train = X_train.reshape((X_train.shape[0],1,28,28))\n",
    "X_val = X_val.reshape((X_val.shape[0],1,28,28))\n",
    "X_test =X_test.reshape((X_test.shape[0],1,28,28))\n",
    "y_train=np_utils.to_categorical(y_train.astype('uint8'))\n",
    "y_val=np_utils.to_categorical(y_val.astype('uint8'))\n",
    "\n",
    "X_data = X_data.reshape((X_data.shape[0],1,28,28))\n",
    "y_data=np_utils.to_categorical(y_data.astype('uint8'))\n",
    "print X_data.shape,y_data.shape,X_train.shape,y_train.shape,X_val.shape,y_val.shape"
   ]
  },
  {
   "cell_type": "markdown",
   "metadata": {},
   "source": [
    "# Data Visualization"
   ]
  },
  {
   "cell_type": "code",
   "execution_count": 83,
   "metadata": {
    "collapsed": false
   },
   "outputs": [
    {
     "data": {
      "image/png": "[encoded data removed]",
      "text/plain": [
       "<matplotlib.figure.Figure at 0x7f14cc930950>"
      ]
     },
     "metadata": {},
     "output_type": "display_data"
    }
   ],
   "source": [
    "mask = np.random.choice(DATASET_SIZE,200, replace=False)\n",
    "X_Sample = X_data[mask]\n",
    "X_Sample = X_Sample.reshape((X_Sample.shape[0],28,28))\n",
    "    \n",
    "plt.figure(figsize=(10,15))\n",
    "for i in xrange(1,21):\n",
    "    plt.subplot(10,10,i)\n",
    "    im = X_Sample[i]\n",
    "    plt.imshow(im, cmap='gray', interpolation='none')\n",
    "    plt.axis('off')\n",
    "plt.show()"
   ]
  },
  {
   "cell_type": "markdown",
   "metadata": {
    "collapsed": true
   },
   "source": [
    "# Build Model"
   ]
  },
  {
   "cell_type": "code",
   "execution_count": 30,
   "metadata": {
    "collapsed": true
   },
   "outputs": [],
   "source": [
    "def BuildModel():\n",
    "    model = Sequential()\n",
    "    model.add(Convolution2D(32, 3, 3, init = 'he_normal', input_shape=(1, IMAGE_WIDTH, IMAGE_HEIGHT), border_mode='same', W_regularizer = l2(REG)))\n",
    "    model.add(BatchNormalization())\n",
    "    model.add(Activation('relu'))\n",
    "    \n",
    "    model.add(Flatten())\n",
    "    model.add(Dense(512, init = 'he_normal', W_regularizer = l2(REG)))\n",
    "    model.add(BatchNormalization())\n",
    "    model.add(Activation('relu'))    \n",
    "    \n",
    "    model.add(Dense(256, init = 'he_normal', W_regularizer = l2(REG)))\n",
    "    model.add(BatchNormalization())\n",
    "    model.add(Activation('relu'))   \n",
    " \n",
    "    model.add(Dense(CLASSES_NUM, init = 'he_normal', W_regularizer = l2(REG)))\n",
    "    model.add(BatchNormalization())\n",
    "    model.add(Activation('softmax'))  \n",
    "    # Compile model\n",
    "    adam = Adam(lr=LEARNING_RATE, beta_1=0.9, beta_2=0.999, epsilon=1e-08, decay=0.0)\n",
    "    \n",
    "    #load the model from a saved file\n",
    "    #model.load_weights(\"weights.best.hdf5\")\n",
    "    \n",
    "    model.compile(loss='categorical_crossentropy', optimizer=adam, metrics=['accuracy'])\n",
    "    print(model.summary())\n",
    "    return model"
   ]
  },
  {
   "cell_type": "code",
   "execution_count": 31,
   "metadata": {
    "collapsed": false
   },
   "outputs": [
    {
     "name": "stdout",
     "output_type": "stream",
     "text": [
      "____________________________________________________________________________________________________\n",
      "Layer (type)                     Output Shape          Param #     Connected to                     \n",
      "====================================================================================================\n",
      "convolution2d_3 (Convolution2D)  (None, 32, 28, 28)    320         convolution2d_input_3[0][0]      \n",
      "____________________________________________________________________________________________________\n",
      "batchnormalization_10 (BatchNorm (None, 32, 28, 28)    56          convolution2d_3[0][0]            \n",
      "____________________________________________________________________________________________________\n",
      "activation_10 (Activation)       (None, 32, 28, 28)    0           batchnormalization_10[0][0]      \n",
      "____________________________________________________________________________________________________\n",
      "flatten_3 (Flatten)              (None, 25088)         0           activation_10[0][0]              \n",
      "____________________________________________________________________________________________________\n",
      "dense_8 (Dense)                  (None, 512)           12845568    flatten_3[0][0]                  \n",
      "____________________________________________________________________________________________________\n",
      "batchnormalization_11 (BatchNorm (None, 512)           1024        dense_8[0][0]                    \n",
      "____________________________________________________________________________________________________\n",
      "activation_11 (Activation)       (None, 512)           0           batchnormalization_11[0][0]      \n",
      "____________________________________________________________________________________________________\n",
      "dense_9 (Dense)                  (None, 256)           131328      activation_11[0][0]              \n",
      "____________________________________________________________________________________________________\n",
      "batchnormalization_12 (BatchNorm (None, 256)           512         dense_9[0][0]                    \n",
      "____________________________________________________________________________________________________\n",
      "activation_12 (Activation)       (None, 256)           0           batchnormalization_12[0][0]      \n",
      "____________________________________________________________________________________________________\n",
      "dense_10 (Dense)                 (None, 10)            2570        activation_12[0][0]              \n",
      "____________________________________________________________________________________________________\n",
      "batchnormalization_13 (BatchNorm (None, 10)            20          dense_10[0][0]                   \n",
      "____________________________________________________________________________________________________\n",
      "activation_13 (Activation)       (None, 10)            0           batchnormalization_13[0][0]      \n",
      "====================================================================================================\n",
      "Total params: 12981398\n",
      "____________________________________________________________________________________________________\n",
      "None\n"
     ]
    }
   ],
   "source": [
    "model = BuildModel()"
   ]
  },
  {
   "cell_type": "markdown",
   "metadata": {},
   "source": [
    "# Model Training"
   ]
  },
  {
   "cell_type": "code",
   "execution_count": 32,
   "metadata": {
    "collapsed": false
   },
   "outputs": [
    {
     "name": "stdout",
     "output_type": "stream",
     "text": [
      "Epoch 1/20\n",
      "42000/42000 [==============================] - 99s - loss: 0.5365 - acc: 0.9394    \n",
      "Epoch 2/20\n",
      "   64/42000 [..............................] - ETA: 99s - loss: 0.3743 - acc: 0.9531"
     ]
    },
    {
     "name": "stderr",
     "output_type": "stream",
     "text": [
      "/home/mg/anaconda2/lib/python2.7/site-packages/keras/callbacks.py:287: RuntimeWarning: Can save best model only with val_acc available, skipping.\n",
      "  'skipping.' % (self.monitor), RuntimeWarning)\n"
     ]
    },
    {
     "name": "stdout",
     "output_type": "stream",
     "text": [
      "42000/42000 [==============================] - 97s - loss: 0.3121 - acc: 0.9703    \n",
      "Epoch 3/20\n",
      "42000/42000 [==============================] - 97s - loss: 0.2464 - acc: 0.9743    \n",
      "Epoch 4/20\n",
      "42000/42000 [==============================] - 98s - loss: 0.2206 - acc: 0.9771    \n",
      "Epoch 5/20\n",
      "42000/42000 [==============================] - 98s - loss: 0.1984 - acc: 0.9791    \n",
      "Epoch 6/20\n",
      "42000/42000 [==============================] - 97s - loss: 0.1784 - acc: 0.9830    \n",
      "Epoch 7/20\n",
      "42000/42000 [==============================] - 97s - loss: 0.1680 - acc: 0.9833    \n",
      "Epoch 8/20\n",
      "42000/42000 [==============================] - 98s - loss: 0.1573 - acc: 0.9851    \n",
      "Epoch 9/20\n",
      "42000/42000 [==============================] - 97s - loss: 0.1404 - acc: 0.9880    \n",
      "Epoch 10/20\n",
      "42000/42000 [==============================] - 97s - loss: 0.1341 - acc: 0.9879    \n",
      "Epoch 11/20\n",
      "42000/42000 [==============================] - 98s - loss: 0.1215 - acc: 0.9890    \n",
      "Epoch 12/20\n",
      "42000/42000 [==============================] - 98s - loss: 0.1205 - acc: 0.9889    \n",
      "Epoch 13/20\n",
      "42000/42000 [==============================] - 98s - loss: 0.1128 - acc: 0.9896    \n",
      "Epoch 14/20\n",
      "42000/42000 [==============================] - 98s - loss: 0.1048 - acc: 0.9914    \n",
      "Epoch 15/20\n",
      "42000/42000 [==============================] - 98s - loss: 0.1008 - acc: 0.9917    \n",
      "Epoch 16/20\n",
      "42000/42000 [==============================] - 100s - loss: 0.0980 - acc: 0.9916   \n",
      "Epoch 17/20\n",
      "42000/42000 [==============================] - 102s - loss: 0.0955 - acc: 0.9922   \n",
      "Epoch 18/20\n",
      "42000/42000 [==============================] - 103s - loss: 0.0908 - acc: 0.9927   \n",
      "Epoch 19/20\n",
      "42000/42000 [==============================] - 102s - loss: 0.0894 - acc: 0.9927   \n",
      "Epoch 20/20\n",
      "42000/42000 [==============================] - 103s - loss: 0.0859 - acc: 0.9928   \n"
     ]
    }
   ],
   "source": [
    "try:\n",
    "    #save the currently best weights.\n",
    "    #filepath=\"mnist.weights.best.hdf5\"\n",
    "    #checkpoint = ModelCheckpoint(filepath, monitor='val_acc', verbose=0, save_best_only=True, mode='max')\n",
    "    #callbacks_list = [checkpoint]\n",
    "    \n",
    "    #model.load_weights(\"mnist.weights.best.hdf5\")\n",
    "    history = model.fit(X_data, y_data, validation_data=None,callbacks = callbacks_list, verbose = 1,shuffle=True, nb_epoch=EPOCHS_NUM, batch_size=BATCH_SIZE)\n",
    "    #Save the model.\n",
    "    model.save_weights(\"model.mnist.weights.h5\")\n",
    "\n",
    "    # list all data in history\n",
    "    #print(history.history.keys())\n",
    "    # summarize history for accuracy\n",
    "    #plt.plot(history.history['acc'])\n",
    "    #plt.plot(history.history['val_acc'])\n",
    "    #plt.title('model accuracy')\n",
    "    #plt.ylabel('accuracy')\n",
    "    #plt.xlabel('epoch')\n",
    "    #plt.legend(['train', 'val'], loc='upper left')\n",
    "    #plt.show()\n",
    "    # summarize history for loss\n",
    "    #plt.plot(history.history['loss'])\n",
    "    #plt.plot(history.history['val_loss'])\n",
    "    #plt.title('model loss')\n",
    "    #plt.ylabel('loss')\n",
    "    #plt.xlabel('epoch')\n",
    "    #plt.legend(['train', 'val'], loc='upper left')\n",
    "    #plt.show()\n",
    "\n",
    "except KeyboardInterrupt:\n",
    "    pass"
   ]
  },
  {
   "cell_type": "markdown",
   "metadata": {},
   "source": [
    "# Model Prediction"
   ]
  },
  {
   "cell_type": "code",
   "execution_count": 34,
   "metadata": {
    "collapsed": false
   },
   "outputs": [
    {
     "name": "stdout",
     "output_type": "stream",
     "text": [
      "28000/28000 [==============================] - 26s    \n"
     ]
    }
   ],
   "source": [
    "#load the model.\n",
    "model.load_weights(\"model.mnist.weights.h5\")\n",
    "predictions = model.predict(X_test,verbose=1)"
   ]
  },
  {
   "cell_type": "code",
   "execution_count": 35,
   "metadata": {
    "collapsed": false
   },
   "outputs": [],
   "source": [
    "predictions = np.argmax(predictions, axis=1)"
   ]
  },
  {
   "cell_type": "code",
   "execution_count": 36,
   "metadata": {
    "collapsed": false
   },
   "outputs": [],
   "source": [
    "def Output_Predictions():\n",
    "    X_data = np.zeros((DATASET_SIZE, IMAGE_HEIGHT*IMAGE_WIDTH))\n",
    "    Y_data = np.zeros((DATASET_SIZE,))\n",
    "\n",
    "    with open(\"MNIST/output.csv\", 'wb') as csvfile:\n",
    "        fieldnames = ['ImageId','Label']\n",
    "        writer = csv.DictWriter(csvfile, fieldnames=fieldnames)\n",
    "        writer.writeheader()\n",
    "        for i in xrange(1,TEST_SIZE+1):\n",
    "            writer.writerow({'ImageId': str(i), 'Label': predictions[i-1]})\n",
    "            \n",
    "Output_Predictions()"
   ]
  },
  {
   "cell_type": "markdown",
   "metadata": {},
   "source": [
    "Note: I can achieve higher than that with model ensembles."
   ]
  }
 ],
 "metadata": {
  "anaconda-cloud": {},
  "kernelspec": {
   "display_name": "Python [conda root]",
   "language": "python",
   "name": "conda-root-py"
  },
  "language_info": {
   "codemirror_mode": {
    "name": "ipython",
    "version": 2
   },
   "file_extension": ".py",
   "mimetype": "text/x-python",
   "name": "python",
   "nbconvert_exporter": "python",
   "pygments_lexer": "ipython2",
   "version": "2.7.12"
  }
 },
 "nbformat": 4,
 "nbformat_minor": 1
}
